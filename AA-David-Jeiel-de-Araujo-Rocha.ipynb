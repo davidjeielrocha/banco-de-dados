{
  "cells": [
    {
      "cell_type": "markdown",
      "metadata": {
        "id": "zpztcWA2UTHL"
      },
      "source": [
        "## Passo 1: Criação de dataframe com os dados"
      ]
    },
    {
      "cell_type": "code",
      "execution_count": 27,
      "metadata": {},
      "outputs": [],
      "source": [
        "import pandas as pd\n",
        "import sqlite3\n",
        "\n",
        "# Criar uma conexão com um banco de dados SQLite\n",
        "conn = sqlite3.connect('money_makers.db')\n",
        "\n",
        "# Criar um objeto cursor\n",
        "cursor = conn.cursor()"
      ]
    },
    {
      "cell_type": "markdown",
      "metadata": {},
      "source": [
        "### SGBD -> SQLONLINE\n",
        "**https://sqliteonline.com**\n",
        "\n",
        "![Importação dos dados](img/Screen_Recording_20240808_205040_Chrome.gif)"
      ]
    },
    {
      "cell_type": "markdown",
      "metadata": {},
      "source": [
        "### Método alternativo de importação\n",
        "\n",
        "Como método alternativo para a importação da planilha e criação do banco de dados exponho um código python que pode ser usado"
      ]
    },
    {
      "cell_type": "code",
      "execution_count": 19,
      "metadata": {
        "colab": {
          "base_uri": "https://localhost:8080/"
        },
        "id": "N7SFyFBgUTHQ",
        "outputId": "c9d6e07f-b9e1-4f70-f804-cf1a961b3aa3"
      },
      "outputs": [],
      "source": [
        "# Nome do arquivo CSV local\n",
        "# csv_file = 'https://raw.githubusercontent.com/davidjeielrocha/banco-de-dados/master/money-makers-bb.csv'\n",
        "\n",
        "# Lendo o arquivo CSV\n",
        "# df = pd.read_csv(csv_file)\n",
        "\n",
        "# # Remover a tabela se ela já existir\n",
        "# #cursor.execute(\"DROP TABLE IF EXISTS money_makers\")\n",
        "\n",
        "# # Criar a tabela com a estrutura apropriada com base no arquivo CSV\n",
        "# create_table_query = \"\"\"\n",
        "#     CREATE TABLE money_makers (\n",
        "#         artist TEXT,\n",
        "#         total NUM,\n",
        "#         sales NUM,\n",
        "#         streaming NUM,\n",
        "#         publishing NUM,\n",
        "#         touring NUM,\n",
        "#         year INT\n",
        "#     )\n",
        "# \"\"\"\n",
        "# cursor.execute(create_table_query)\n",
        "\n",
        "# ## Confirmar a transação\n",
        "# conn.commit()\n",
        "\n",
        "# dados = \"\"\n",
        "# def executa_sql(conexao, comando_sql):\n",
        "#   try:\n",
        "#     cursor = conexao.cursor()\n",
        "#     cursor.execute(comando_sql)\n",
        "#     conexao.commit()\n",
        "#   except sqlite3.Error as erro:\n",
        "#     print(\"Erro ao inserir dados no banco de dados:\", erro)\n",
        "\n",
        "# for index, row in df.iterrows():\n",
        "#   comando = \"\"\"\n",
        "#     INSERT INTO money_makers (Artist, Total, Sales, Streaming, Publishing, Touring, Year)\n",
        "#     VALUES (\n",
        "#       \"\"\"+\"'\"+str(row[0])+\"'\"+\"\"\",\n",
        "#       \"\"\"+str(row[1])+\"\"\",\n",
        "#       \"\"\"+str(row[2])+\"\"\",\n",
        "#       \"\"\"+str(row[3])+\"\"\",\n",
        "#       \"\"\"+str(row[4])+\"\"\",\n",
        "#       \"\"\"+str(row[5])+\"\"\",\n",
        "#       \"\"\"+str(row[6])+\"\"\"\n",
        "#     )\n",
        "#   \"\"\"\n",
        "#   executa_sql(conn, comando)\n",
        "\n",
        "# validacao = \"\"\"SELECT * FROM money_makers\"\"\"\n",
        "# print(\"<--Teste de verificação dos dados -->\")\n",
        "# print(pd.read_sql_query(validacao, conn))\n",
        "# print(\"<--Final do teste de verificação-->\")"
      ]
    },
    {
      "cell_type": "markdown",
      "metadata": {
        "id": "TqzM3Izu48Yy"
      },
      "source": [
        "## Questão 1: 0,5 Ponto\n",
        " - Quantos artistas constam na base?"
      ]
    },
    {
      "cell_type": "code",
      "execution_count": 20,
      "metadata": {
        "colab": {
          "base_uri": "https://localhost:8080/"
        },
        "id": "XhV9wAys5i9a",
        "outputId": "4a6d0854-866e-42bb-da5e-b13cc05ca2d7"
      },
      "outputs": [
        {
          "name": "stdout",
          "output_type": "stream",
          "text": [
            "Constam  89  artistas na base de dados\n",
            "<--Teste de verificação dos dados -->\n",
            "               artist\n",
            "0        Taylor Swift\n",
            "1         Post Malone\n",
            "2         Celine Dion\n",
            "3              Eagles\n",
            "4       Bellie Eilish\n",
            "..                ...\n",
            "85  Alanis Morissette\n",
            "86        Grupo Firme\n",
            "87       Thomas Rhett\n",
            "88     Zac Brown Band\n",
            "89             Maluma\n",
            "\n",
            "[90 rows x 1 columns]\n",
            "<--Final do teste de verificação-->\n"
          ]
        }
      ],
      "source": [
        "comando = \"Select distinct artist from money_makers\"\n",
        "artistas = pd.read_sql_query(comando, conn)\n",
        "qtd = artistas.count() - 1\n",
        "print(\"Constam \" , qtd[\"artist\"] , \" artistas na base de dados\")\n",
        "print(\"<--Teste de verificação dos dados -->\")\n",
        "print(pd.read_sql_query(comando, conn))\n",
        "print(\"<--Final do teste de verificação-->\")"
      ]
    },
    {
      "cell_type": "markdown",
      "metadata": {
        "id": "KOphr1AXAcgz"
      },
      "source": [
        " - Quantos registros essa base possui?"
      ]
    },
    {
      "cell_type": "code",
      "execution_count": 28,
      "metadata": {
        "colab": {
          "base_uri": "https://localhost:8080/"
        },
        "id": "UwBegqX4ApFT",
        "outputId": "4939ff81-e019-4c2f-87b7-b624f9cad215"
      },
      "outputs": [
        {
          "name": "stdout",
          "output_type": "stream",
          "text": [
            "Constam  120  registros na base de dados\n",
            "<--Teste de verificação dos dados -->\n",
            "                         artist  total    sales  streaming  publishing  \\\n",
            "0                  Taylor Swift   23.8  10.0000      10.60       3.200   \n",
            "1                   Post Malone   23.2   0.7125       8.10       2.000   \n",
            "2                   Celine Dion   17.5   0.2500       0.29       0.024   \n",
            "3                        Eagles   16.3   0.9700       2.70       1.200   \n",
            "4                 Bellie Eilish   14.7   2.1000       5.90       5.700   \n",
            "..                          ...    ...      ...        ...         ...   \n",
            "115  YoungBoy Never Broke Again   10.4   0.1200       8.90       1.400   \n",
            "116                Thomas Rhett   10.3   0.1700       2.40       0.410   \n",
            "117              Zac Brown Band   10.3   0.2300       1.60       1.000   \n",
            "118                      Maluma   10.2   0.0020       1.30       0.810   \n",
            "119                  The Weeknd   10.1   1.3000       7.30       1.600   \n",
            "\n",
            "     touring  year  \n",
            "0        0.0  2020  \n",
            "1       12.4  2020  \n",
            "2       17.0  2020  \n",
            "3       11.4  2020  \n",
            "4        1.0  2020  \n",
            "..       ...   ...  \n",
            "115      0.0  2021  \n",
            "116      7.4  2021  \n",
            "117      7.4  2021  \n",
            "118      8.1  2021  \n",
            "119      0.0  2021  \n",
            "\n",
            "[120 rows x 7 columns]\n",
            "<--Final do teste de verificação-->\n"
          ]
        }
      ],
      "source": [
        "comando = \"Select * from money_makers\"\n",
        "quantidade = pd.read_sql_query(comando, conn)\n",
        "valor = quantidade.count()\n",
        "print(\"Constam \" , valor[\"total\"], \" registros na base de dados\")\n",
        "print(\"<--Teste de verificação dos dados -->\")\n",
        "print(quantidade)\n",
        "print(\"<--Final do teste de verificação-->\")"
      ]
    },
    {
      "cell_type": "markdown",
      "metadata": {
        "id": "Qq1asXR2Wt69"
      },
      "source": [
        " - Quantas colunas essa base possui?"
      ]
    },
    {
      "cell_type": "code",
      "execution_count": 29,
      "metadata": {
        "colab": {
          "base_uri": "https://localhost:8080/"
        },
        "id": "VxoIlCgLWzYn",
        "outputId": "43d336f2-0d04-42a9-fae4-49e64edd6b68"
      },
      "outputs": [
        {
          "name": "stdout",
          "output_type": "stream",
          "text": [
            "Existem  7  colunas na tabela\n",
            "<--Teste de verificação dos dados -->\n",
            "0        artist\n",
            "1         total\n",
            "2         sales\n",
            "3     streaming\n",
            "4    publishing\n",
            "5       touring\n",
            "6          year\n",
            "Name: name, dtype: object\n",
            "<--Final do teste de verificação-->\n"
          ]
        }
      ],
      "source": [
        "comando = \"\"\"SELECT *\n",
        "FROM PRAGMA_table_info('money_makers');\"\"\"\n",
        "valor = pd.read_sql_query(comando, conn)\n",
        "quantidade = valor.count()\n",
        "print(\"Existem \" , quantidade[\"name\"], \" colunas na tabela\")\n",
        "print(\"<--Teste de verificação dos dados -->\")\n",
        "print(valor[\"name\"])\n",
        "print(\"<--Final do teste de verificação-->\")"
      ]
    },
    {
      "cell_type": "markdown",
      "metadata": {
        "id": "qssB0BhudxPZ"
      },
      "source": [
        "##Questão 2: 0,5 Ponto\n",
        "- Qual artista teve o maior número de visualizações no total?"
      ]
    },
    {
      "cell_type": "code",
      "execution_count": 30,
      "metadata": {
        "colab": {
          "base_uri": "https://localhost:8080/"
        },
        "id": "EU6b2PiNeSpr",
        "outputId": "6e227fd9-9c75-4188-95b4-63eaf4b704f3"
      },
      "outputs": [
        {
          "name": "stdout",
          "output_type": "stream",
          "text": [
            "O artista com a maior quantidade de visualizações foi Drake com 49.3 mil visualizações\n"
          ]
        }
      ],
      "source": [
        "comando = \"\"\"Select artist,\n",
        "sum(streaming) qt\n",
        "from money_makers\n",
        "group by artist\n",
        "order by qt desc\"\"\"\n",
        "valor = pd.read_sql_query(comando, conn)\n",
        "dados = valor[0:1]\n",
        "mens = \"O artista com a maior quantidade de visualizações foi\"\n",
        "quantidade = dados['qt'][0]\n",
        "artista = dados['artist'][0]\n",
        "print(mens, artista, 'com', quantidade ,  'mil visualizações')\n"
      ]
    },
    {
      "cell_type": "markdown",
      "metadata": {
        "id": "uwEXxuxJ1M7V"
      },
      "source": [
        "Qual artista teve menos visualizações no streaming?"
      ]
    },
    {
      "cell_type": "code",
      "execution_count": 31,
      "metadata": {
        "colab": {
          "base_uri": "https://localhost:8080/"
        },
        "id": "3IqZPnGwnljh",
        "outputId": "72a1c222-8a26-4caa-8cdd-7208dd1fce2a"
      },
      "outputs": [
        {
          "name": "stdout",
          "output_type": "stream",
          "text": [
            "O artista com a menor quantidade de visualizações foi Jennifer Lopez com 0.08 mil visualizações\n"
          ]
        }
      ],
      "source": [
        "comando = \"\"\"\n",
        "Select artist,\n",
        "sum(streaming) qt\n",
        "from money_makers\n",
        "group by artist\n",
        "order by qt asc\n",
        "\"\"\"\n",
        "valor = pd.read_sql_query(comando, conn)\n",
        "dados = valor[0:1]\n",
        "mens = \"O artista com a menor quantidade de visualizações foi\"\n",
        "quantidade = dados['qt'][0]\n",
        "artista = dados['artist'][0]\n",
        "print(mens, artista, 'com', quantidade ,  'mil visualizações')\n"
      ]
    },
    {
      "cell_type": "markdown",
      "metadata": {
        "id": "WG4PUZxhouM9"
      },
      "source": [
        " - Qual artista teve mais visualizações em turnês?"
      ]
    },
    {
      "cell_type": "code",
      "execution_count": 32,
      "metadata": {
        "colab": {
          "base_uri": "https://localhost:8080/"
        },
        "id": "mgDdBC9Wo97_",
        "outputId": "54cc500c-54da-4fdc-ba93-dc25b4212d84"
      },
      "outputs": [
        {
          "name": "stdout",
          "output_type": "stream",
          "text": [
            "O artista com a maior quantidade de visualizações foi Taylor Swift com 90.5 mil visualizações em turnês\n"
          ]
        }
      ],
      "source": [
        "comando = \"\"\"\n",
        "    SELECT artist ,\n",
        "    sum(touring) qt\n",
        "    FROM money_makers\n",
        "    GROUP BY artist\n",
        "    order by qt desc\n",
        "\"\"\"\n",
        "valor = pd.read_sql_query(comando, conn)\n",
        "dados = valor[0:1]\n",
        "mens = \"O artista com a maior quantidade de visualizações foi\"\n",
        "quantidade = dados['qt'][0]\n",
        "artista = dados['artist'][0]\n",
        "print(mens, artista, 'com', quantidade ,  'mil visualizações em turnês')\n"
      ]
    },
    {
      "cell_type": "markdown",
      "metadata": {
        "id": "JEXvw_DrF3Jh"
      },
      "source": [
        "## Questão 3: 0,5 Ponto\n",
        "- Crie uma tabela contendo\n",
        " - o nome do artista,\n",
        " - o país e,\n",
        " - o continente de origem,\n",
        "\n",
        " **os artistas listados nessa tabela deverão ser os mesmos do arquivo ``money makers bb``**\n",
        "\n",
        "![Importação dos dados](img/Screen_Recording_20240809_222534_Chrome.gif)"
      ]
    },
    {
      "cell_type": "code",
      "execution_count": 26,
      "metadata": {
        "colab": {
          "base_uri": "https://localhost:8080/"
        },
        "id": "fZs_qfFIIj8a",
        "outputId": "5a253cb1-40f4-4902-e744-59282d74400b"
      },
      "outputs": [
        {
          "name": "stdout",
          "output_type": "stream",
          "text": [
            "<-- Teste com as primeiras linhas do dataframe criado -->\n",
            "     Year         Artist                                 Work  \\\n",
            "0  1959.0  Henry Mancini            The Music from Peter Gunn   \n",
            "1  1960.0  Frank Sinatra                  Come Dance with Me!   \n",
            "2  1961.0    Bob Newhart  The Button-Down Mind of Bob Newhart   \n",
            "3  1962.0   Judy Garland                Judy at Carnegie Hall   \n",
            "4  1963.0  Vaughn Meader                     The First Family   \n",
            "\n",
            "  City/town of birth/origin US State of birth/origin Country of birth/origin  \\\n",
            "0                 Cleveland                     Ohio                     USA   \n",
            "1                   Hoboken               New Jersey                     USA   \n",
            "2                  Oak Park                 Illinois                     USA   \n",
            "3              Grand Rapids                Minnesota                     USA   \n",
            "4                Waterville                    Maine                     USA   \n",
            "\n",
            "  Racial/Ethnic group  \n",
            "0      White/European  \n",
            "1      White/European  \n",
            "2      White/European  \n",
            "3      White/European  \n",
            "4      White/European  \n",
            "<-- Final do teste -->\n"
          ]
        }
      ],
      "source": [
        "#continent = \"\"\"CREATE TABLE continent(  id_continent integer PRIMARY KEY AUTOINCREMENT  no_continent text)\"\"\"\n",
        "#country   = \"\"\"CREATE TABLE country(  id_country integer PRIMARY KEY AUTOINCREMENT  no_country text,  id _continent integer  FOREIGN KEY(id_continent) REFERENCES continent(id_continent)  \"\"\"\n",
        "#artist    = \"\"\"CREATE TABLE artist(  id_artist integer PRIMARY KEY AUTOINCREMENT  no_artist text,  id_country integer  FOREIGN KEY(id_country) REFERENCES country(id_country)  \"\"\"\n",
        "\n",
        "#importar dados de paises dos artistas listados\n",
        "import pandas as pd\n",
        "\n",
        "# importa csv com a nacionalidad\n",
        "csv_file = 'https://raw.githubusercontent.com/davidjeielrocha/banco-de-dados/master/grammys-best-album.csv'\n",
        "\n",
        "# Lendo o arquivo CSV\n",
        "best_album = pd.read_csv(csv_file)\n",
        "\n",
        "# Exibir as primeiras linhas do dataframe para entender a estrutura\n",
        "print(\"<-- Teste com as primeiras linhas do dataframe criado -->\")\n",
        "print(best_album.head())\n",
        "print(\"<-- Final do teste -->\")\n",
        "\n",
        "\n",
        "\n",
        "#importar dados de continentes\n",
        "#importar dados de artistas\n"
      ]
    },
    {
      "cell_type": "code",
      "execution_count": 47,
      "metadata": {
        "id": "qGQGXl2f9OyC"
      },
      "outputs": [
        {
          "name": "stderr",
          "output_type": "stream",
          "text": [
            "C:\\Users\\c117813\\AppData\\Local\\Temp\\ipykernel_32124\\2967303722.py:39: FutureWarning: Series.__getitem__ treating keys as positions is deprecated. In a future version, integer keys will always be treated as labels (consistent with DataFrame behavior). To access a value by position, use `ser.iloc[pos]`\n",
            "  \"\"\"+\"'\"+str(row[1])+\"'\"+\"\"\",\n",
            "C:\\Users\\c117813\\AppData\\Local\\Temp\\ipykernel_32124\\2967303722.py:40: FutureWarning: Series.__getitem__ treating keys as positions is deprecated. In a future version, integer keys will always be treated as labels (consistent with DataFrame behavior). To access a value by position, use `ser.iloc[pos]`\n",
            "  \"\"\"+\"'\"+str(row[4])+\"'\"+\"\"\",\n",
            "C:\\Users\\c117813\\AppData\\Local\\Temp\\ipykernel_32124\\2967303722.py:41: FutureWarning: Series.__getitem__ treating keys as positions is deprecated. In a future version, integer keys will always be treated as labels (consistent with DataFrame behavior). To access a value by position, use `ser.iloc[pos]`\n",
            "  \"\"\"+\"'\"+str(row[5])+\"'\"+\"\"\"\n"
          ]
        },
        {
          "name": "stdout",
          "output_type": "stream",
          "text": [
            "<--Teste de verificação dos dados -->\n",
            "                                           artist      country  \\\n",
            "0                                   Henry Mancini          USA   \n",
            "1                                   Frank Sinatra          USA   \n",
            "2                                     Bob Newhart          USA   \n",
            "3                                    Judy Garland          USA   \n",
            "4                                   Vaughn Meader          USA   \n",
            "5                                Barbra Streisand          USA   \n",
            "6                                       Stan Getz          USA   \n",
            "7                                   Joao Gilberto       Brazil   \n",
            "8                                     The Beatles           UK   \n",
            "9                                   Glen Campbell          USA   \n",
            "10                           Blood, Sweat & Tears          USA   \n",
            "11                              Simon & Garfunkel          USA   \n",
            "12                                    Carole King          USA   \n",
            "13                                George Harrison           UK   \n",
            "14                                  Stevie Wonder          USA   \n",
            "15                                     Paul Simon          USA   \n",
            "16                                  Fleetwood Mac           UK   \n",
            "17                                     Barry Gibb  Isle of Man   \n",
            "18                                     Billy Joel          USA   \n",
            "19                              Christopher Cross          USA   \n",
            "20                                    John Lennon           UK   \n",
            "21                                       Yoko Ono        Japan   \n",
            "22                                           Toto          USA   \n",
            "23                                Michael Jackson          USA   \n",
            "24                                  Lionel Richie          USA   \n",
            "25                                   Phil Collins           UK   \n",
            "26                                             U2      Ireland   \n",
            "27                                 George Michael           UK   \n",
            "28                                   Bonnie Raitt          USA   \n",
            "29               Quincy Jones and various artists          USA   \n",
            "30                                   Natalie Cole          USA   \n",
            "31                                   Eric Clapton           UK   \n",
            "32                             Whitney Houston[B]          USA   \n",
            "33                                   Tony Bennett          USA   \n",
            "34                              Alanis Morissette       Canada   \n",
            "35                                    Celine Dion       Canada   \n",
            "36                                      Bob Dylan          USA   \n",
            "37                                    Lauryn Hill          USA   \n",
            "38                                        Santana          USA   \n",
            "39                                     Steely Dan          USA   \n",
            "40  Various artists[C] Produced by T Bone Burnett          USA   \n",
            "41                                    Norah Jones          USA   \n",
            "42                                        OutKast          USA   \n",
            "43                                    Ray Charles          USA   \n",
            "44                                   Dixie Chicks          USA   \n",
            "45                                 Herbie Hancock          USA   \n",
            "46                                   Robert Plant           UK   \n",
            "47                                  Alison Krauss          USA   \n",
            "48                                   Taylor Swift          USA   \n",
            "49                                    Arcade Fire       Canada   \n",
            "50                                          Adele           UK   \n",
            "51                                 Mumford & Sons           UK   \n",
            "52                                      Daft Punk       France   \n",
            "53                                           Beck          USA   \n",
            "54                                     Bruno Mars          USA   \n",
            "\n",
            "           continent  \n",
            "0   América do Norte  \n",
            "1   América do Norte  \n",
            "2   América do Norte  \n",
            "3   América do Norte  \n",
            "4   América do Norte  \n",
            "5   América do Norte  \n",
            "6   América do Norte  \n",
            "7     América do Sul  \n",
            "8             Europa  \n",
            "9   América do Norte  \n",
            "10  América do Norte  \n",
            "11  América do Norte  \n",
            "12  América do Norte  \n",
            "13            Europa  \n",
            "14  América do Norte  \n",
            "15  América do Norte  \n",
            "16            Europa  \n",
            "17            Europa  \n",
            "18  América do Norte  \n",
            "19  América do Norte  \n",
            "20            Europa  \n",
            "21              Asia  \n",
            "22  América do Norte  \n",
            "23  América do Norte  \n",
            "24  América do Norte  \n",
            "25            Europa  \n",
            "26            Europa  \n",
            "27            Europa  \n",
            "28  América do Norte  \n",
            "29  América do Norte  \n",
            "30  América do Norte  \n",
            "31            Europa  \n",
            "32  América do Norte  \n",
            "33  América do Norte  \n",
            "34  América do Norte  \n",
            "35  América do Norte  \n",
            "36  América do Norte  \n",
            "37  América do Norte  \n",
            "38  América do Norte  \n",
            "39  América do Norte  \n",
            "40  América do Norte  \n",
            "41  América do Norte  \n",
            "42  América do Norte  \n",
            "43  América do Norte  \n",
            "44  América do Norte  \n",
            "45  América do Norte  \n",
            "46            Europa  \n",
            "47  América do Norte  \n",
            "48  América do Norte  \n",
            "49  América do Norte  \n",
            "50            Europa  \n",
            "51            Europa  \n",
            "52            Europa  \n",
            "53  América do Norte  \n",
            "54  América do Norte  \n",
            "<--Final do teste de verificação-->\n"
          ]
        }
      ],
      "source": [
        "# Nome do arquivo CSV local\n",
        "csv_file = 'https://raw.githubusercontent.com/davidjeielrocha/banco-de-dados/master/grammys-best-album.csv'\n",
        "\n",
        "# Lendo o arquivo CSV\n",
        "df = pd.read_csv(csv_file)\n",
        "\n",
        "# # Remover a tabela se ela já existir\n",
        "cursor.execute(\"DROP TABLE IF EXISTS grammys_best_album\")\n",
        "\n",
        "# # Criar a tabela com a estrutura apropriada com base no arquivo CSV\n",
        "create_table_query = \"\"\"\n",
        "    CREATE TABLE grammys_best_album (\n",
        "        artist TEXT,\n",
        "        city TEXT,\n",
        "        country TEXT\n",
        "    )\n",
        "\"\"\"\n",
        "cursor.execute(create_table_query)\n",
        "\n",
        "# ## Confirmar a transação\n",
        "conn.commit()\n",
        "\n",
        "dados = \"\"\n",
        "def executa_sql(conexao, comando_sql):\n",
        "  try:\n",
        "    cursor = conexao.cursor()\n",
        "    cursor.execute(comando_sql)\n",
        "    conexao.commit()\n",
        "  except sqlite3.Error as erro:\n",
        "    print(\"Erro ao inserir dados no banco de dados:\", erro)\n",
        "for index, row in df.iterrows():\n",
        "  comando = \"\"\"\n",
        "    INSERT INTO grammys_best_album (\n",
        "        artist,\n",
        "        city,\n",
        "        country\n",
        "    )\n",
        "    VALUES (\n",
        "      \"\"\"+\"'\"+str(row[1])+\"'\"+\"\"\",\n",
        "      \"\"\"+\"'\"+str(row[4])+\"'\"+\"\"\",\n",
        "      \"\"\"+\"'\"+str(row[5])+\"'\"+\"\"\"      \n",
        "    )\n",
        "  \"\"\"\n",
        "  executa_sql(conn, comando)\n",
        "\n",
        "cria_tabela_pais_continente = \"\"\"\n",
        "  CREATE TABLE artist_country_continent(\n",
        "    artist text,\n",
        "    country text,\n",
        "    continent text\n",
        "  )\n",
        "\"\"\" \n",
        "executa_sql(conn, cria_tabela_pais_continente)\n",
        "\n",
        "insere_dados = \"\"\"\n",
        "  INSERT INTO artist_country_continent(\n",
        "    artist,\n",
        "    country,\n",
        "    continent \n",
        "  )\n",
        "  SELECT distinct\n",
        "         artist, \n",
        "         country,\n",
        "         CASE country\n",
        "                      WHEN 'USA' THEN 'América do Norte' \n",
        "                      WHEN 'Brazil' THEN 'América do Sul' \n",
        "                      WHEN 'UK' THEN 'Europa' \n",
        "                      WHEN 'Isle of Man' THEN 'Europa' \n",
        "                      WHEN 'Japan' THEN 'Asia' \n",
        "                      WHEN 'Ireland' THEN 'Europa' \n",
        "                      WHEN 'Canada' THEN 'América do Norte' \n",
        "                      WHEN 'France' THEN 'Europa' \n",
        "                    END continent        \n",
        "    FROM grammys_best_album\"\"\"\n",
        "executa_sql(conn, insere_dados)\n",
        "\n",
        "print(\"<--Teste de verificação dos dados -->\")\n",
        "print(pd.read_sql_query(\"SELECT * FROM artist_country_continent\", conn))\n",
        "print(\"<--Final do teste de verificação-->\")"
      ]
    },
    {
      "cell_type": "markdown",
      "metadata": {
        "id": "qdJClU7cIkuc"
      },
      "source": [
        "- Utilizando as informações das duas tabelas, liste quais foram os cinco países que tiveram o maior número de visualizações."
      ]
    },
    {
      "cell_type": "code",
      "execution_count": null,
      "metadata": {
        "id": "pDqs-OhTIyxi"
      },
      "outputs": [],
      "source": []
    }
  ],
  "metadata": {
    "colab": {
      "collapsed_sections": [
        "zpztcWA2UTHL",
        "5buP270HUTHV",
        "3uBCouFbUkBp",
        "3BuK3VC0UTHW"
      ],
      "provenance": []
    },
    "kernelspec": {
      "display_name": "Python 3",
      "language": "python",
      "name": "python3"
    },
    "language_info": {
      "codemirror_mode": {
        "name": "ipython",
        "version": 3
      },
      "file_extension": ".py",
      "mimetype": "text/x-python",
      "name": "python",
      "nbconvert_exporter": "python",
      "pygments_lexer": "ipython3",
      "version": "3.12.2"
    }
  },
  "nbformat": 4,
  "nbformat_minor": 0
}
