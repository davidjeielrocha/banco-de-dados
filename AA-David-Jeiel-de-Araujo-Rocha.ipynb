{
 "cells": [
  {
   "cell_type": "markdown",
   "metadata": {},
   "source": [
    "## Passo 1: Importação dos dados"
   ]
  },
  {
   "cell_type": "code",
   "execution_count": null,
   "metadata": {},
   "outputs": [],
   "source": [
    "import pandas as pd\n",
    "import sqlite3\n",
    "\n",
    "# URL of the CSV file\n",
    "csv_file = 'money-makers-bb.csv'\n",
    "\n",
    "# Reading the CSV file\n",
    "df = pd.read_csv(csv_file)\n",
    "\n",
    "# Display the first few rows of the dataframe to understand its structure\n",
    "print(df.head())\n",
    "\n",
    "# Create a connection to a SQLite database\n",
    "conn = sqlite3.connect('money_makers.db')\n",
    "\n",
    "# Create a cursor object\n",
    "cursor = conn.cursor()\n",
    "\n",
    "# Drop the table if it already exists\n",
    "cursor.execute(\"DROP TABLE IF EXISTS money_makers\")\n",
    "\n",
    "# Create table with appropriate schema based on the CSV file\n",
    "create_table_query = \"\"\"\n",
    "CREATE TABLE money_makers (\n",
    "    Nome TEXT,\n",
    "    Cargo TEXT,\n",
    "    Empresa TEXT,\n",
    "    Ano INTEGER,\n",
    "    Salario FLOAT\n",
    ")\n",
    "\"\"\"\n",
    "cursor.execute(create_table_query)\n",
    "\n",
    "# Commit the transaction\n",
    "conn.commit()\n",
    "\n",
    "# Write the dataframe to the SQL table\n",
    "df.to_sql('money_makers', conn, if_exists='append', index=False)\n",
    "\n",
    "# Verify that the data has been inserted correctly\n",
    "print(pd.read_sql('SELECT * FROM money_makers LIMIT 5', conn))\n",
    "\n",
    "# Close the connection\n",
    "conn.close()"
   ]
  }
 ],
 "metadata": {
  "language_info": {
   "name": "python"
  }
 },
 "nbformat": 4,
 "nbformat_minor": 2
}
