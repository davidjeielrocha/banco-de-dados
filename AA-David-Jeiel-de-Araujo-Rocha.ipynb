{
  "cells": [
    {
      "cell_type": "markdown",
      "metadata": {
        "id": "zpztcWA2UTHL"
      },
      "source": [
        "## Passo 1: Criação de dataframe com os dados"
      ]
    },
    {
      "cell_type": "code",
      "execution_count": 10,
      "metadata": {},
      "outputs": [],
      "source": [
        "import pandas as pd\n",
        "import sqlite3\n",
        "\n",
        "# Criar uma conexão com um banco de dados SQLite\n",
        "conn = sqlite3.connect('money_makers.db')\n",
        "\n",
        "# Criar um objeto cursor\n",
        "cursor = conn.cursor()\n",
        "\n",
        "def executa_sql(conexao, comando_sql):\n",
        "  try:\n",
        "    cursor = conexao.cursor()\n",
        "    cursor.execute(comando_sql)\n",
        "    conexao.commit()\n",
        "  except sqlite3.Error as erro:\n",
        "    print(\"Erro ao inserir dados no banco de dados:\", erro)"
      ]
    },
    {
      "cell_type": "markdown",
      "metadata": {},
      "source": [
        "### Usando a importação pelo SGBD ´SQLITEONLINE´\n",
        "![Importação dos dados](img/Screenshot_20240812_091703_Chrome.jpg)\n",
        "\n",
        "### Usando a importação de dados pelo Python"
      ]
    },
    {
      "cell_type": "code",
      "execution_count": 19,
      "metadata": {
        "colab": {
          "base_uri": "https://localhost:8080/"
        },
        "id": "N7SFyFBgUTHQ",
        "outputId": "c9d6e07f-b9e1-4f70-f804-cf1a961b3aa3"
      },
      "outputs": [],
      "source": [
        "# Nome do arquivo CSV local\n",
        "csv_file = 'money-makers-bb.csv'\n",
        "\n",
        "# Lendo o arquivo CSV\n",
        "df = pd.read_csv(csv_file)\n",
        "\n",
        "## Remover a tabela se ela já existir\n",
        "cursor.execute(\"DROP TABLE IF EXISTS money_makers\")\n",
        "\n",
        "## Criar a tabela com a estrutura apropriada com base no arquivo CSV\n",
        "create_table_query = \"\"\"\n",
        "    CREATE TABLE money_makers (\n",
        "        artist TEXT,\n",
        "        total NUM,\n",
        "        sales NUM,\n",
        "        streaming NUM,\n",
        "        publishing NUM,\n",
        "        touring NUM,\n",
        "        year INT\n",
        "    )\n",
        "\"\"\"\n",
        "cursor.execute(create_table_query)\n",
        "\n",
        "### Confirmar a transação\n",
        "conn.commit()\n",
        "\n",
        "dados = \"\"\n",
        "def executa_sql(conexao, comando_sql):\n",
        "  try:\n",
        "    cursor = conexao.cursor()\n",
        "    cursor.execute(comando_sql)\n",
        "    conexao.commit()\n",
        "  except sqlite3.Error as erro:\n",
        "    print(\"Erro ao inserir dados no banco de dados:\", erro)\n",
        "for index, row in df.iterrows():\n",
        "  comando = \"\"\"\n",
        "    INSERT INTO money_makers (Artist, Total, Sales, Streaming, Publishing, Touring, Year)\n",
        "    VALUES (\n",
        "      \"\"\"+\"'\"+str(row[0])+\"'\"+\"\"\",\n",
        "      \"\"\"+str(row[1])+\"\"\",\n",
        "      \"\"\"+str(row[2])+\"\"\",\n",
        "      \"\"\"+str(row[3])+\"\"\",\n",
        "      \"\"\"+str(row[4])+\"\"\",\n",
        "      \"\"\"+str(row[5])+\"\"\",\n",
        "      \"\"\"+str(row[6])+\"\"\"\n",
        "    )\n",
        "    \"\"\"\n",
        "  executa_sql(conn, comando)\n",
        "\n",
        "validacao = \"\"\"SELECT * FROM money_makers\"\"\"\n",
        "print(\"<--Teste de verificação dos dados -->\")\n",
        "print(pd.read_sql_query(validacao, conn))\n",
        "print(\"<--Final do teste de verificação-->\")"
      ]
    },
    {
      "cell_type": "markdown",
      "metadata": {
        "id": "TqzM3Izu48Yy"
      },
      "source": [
        "## Questão 1: 0,5 Ponto\n",
        " - Quantos artistas constam na base?"
      ]
    },
    {
      "cell_type": "code",
      "execution_count": 54,
      "metadata": {
        "colab": {
          "base_uri": "https://localhost:8080/"
        },
        "id": "XhV9wAys5i9a",
        "outputId": "4a6d0854-866e-42bb-da5e-b13cc05ca2d7"
      },
      "outputs": [
        {
          "name": "stdout",
          "output_type": "stream",
          "text": [
            "Constam  89  artistas na base de dados, considerando variações no nome de artistas ano a ano, como por exemplo, a banda que teve o nome `The Beatles` em 2020 e 'Beatles' em 2021\n"
          ]
        }
      ],
      "source": [
        "comando = \"Select distinct artist from money_makers\"\n",
        "artistas = pd.read_sql_query(comando, conn)\n",
        "qtd = artistas.count() - 1\n",
        "print(\"Constam \" , qtd[\"artist\"] , \" artistas na base de dados, considerando variações no nome de artistas ano a ano, como por exemplo, a banda que teve o nome `The Beatles` em 2020 e 'Beatles' em 2021\")"
      ]
    },
    {
      "cell_type": "markdown",
      "metadata": {
        "id": "KOphr1AXAcgz"
      },
      "source": [
        " - Quantos registros essa base possui?"
      ]
    },
    {
      "cell_type": "code",
      "execution_count": 55,
      "metadata": {
        "colab": {
          "base_uri": "https://localhost:8080/"
        },
        "id": "UwBegqX4ApFT",
        "outputId": "4939ff81-e019-4c2f-87b7-b624f9cad215"
      },
      "outputs": [
        {
          "name": "stdout",
          "output_type": "stream",
          "text": [
            "Constam  120  registros na base de dados\n"
          ]
        }
      ],
      "source": [
        "comando = \"Select * from money_makers\"\n",
        "quantidade = pd.read_sql_query(comando, conn)\n",
        "valor = quantidade.count()\n",
        "print(\"Constam \" , valor[\"total\"], \" registros na base de dados\")"
      ]
    },
    {
      "cell_type": "markdown",
      "metadata": {
        "id": "Qq1asXR2Wt69"
      },
      "source": [
        " - Quantas colunas essa base possui?"
      ]
    },
    {
      "cell_type": "code",
      "execution_count": 43,
      "metadata": {
        "colab": {
          "base_uri": "https://localhost:8080/"
        },
        "id": "VxoIlCgLWzYn",
        "outputId": "43d336f2-0d04-42a9-fae4-49e64edd6b68"
      },
      "outputs": [
        {
          "name": "stdout",
          "output_type": "stream",
          "text": [
            "Existem  7  colunas na tabela\n"
          ]
        }
      ],
      "source": [
        "comando = \"\"\"SELECT *\n",
        "FROM PRAGMA_table_info('money_makers');\"\"\"\n",
        "valor = pd.read_sql_query(comando, conn)\n",
        "quantidade = valor.count()\n",
        "print(\"Existem \" , quantidade[\"name\"], \" colunas na tabela\")"
      ]
    },
    {
      "cell_type": "markdown",
      "metadata": {
        "id": "qssB0BhudxPZ"
      },
      "source": [
        "## Questão 2: 0,5 Ponto\n",
        "- Qual artista teve o maior número de visualizações no total?"
      ]
    },
    {
      "cell_type": "code",
      "execution_count": 44,
      "metadata": {
        "colab": {
          "base_uri": "https://localhost:8080/"
        },
        "id": "EU6b2PiNeSpr",
        "outputId": "6e227fd9-9c75-4188-95b4-63eaf4b704f3"
      },
      "outputs": [
        {
          "name": "stdout",
          "output_type": "stream",
          "text": [
            "O artista com a maior quantidade de visualizações foi Drake com 49.3 mil visualizações\n"
          ]
        }
      ],
      "source": [
        "comando = \"\"\"Select artist,\n",
        "sum(streaming) qt\n",
        "from money_makers\n",
        "group by artist\n",
        "order by qt desc\"\"\"\n",
        "valor = pd.read_sql_query(comando, conn)\n",
        "dados = valor[0:1]\n",
        "mens = \"O artista com a maior quantidade de visualizações foi\"\n",
        "quantidade = dados['qt'][0]\n",
        "artista = dados['artist'][0]\n",
        "print(mens, artista, 'com', quantidade ,  'mil visualizações')\n"
      ]
    },
    {
      "cell_type": "markdown",
      "metadata": {
        "id": "uwEXxuxJ1M7V"
      },
      "source": [
        " - Qual artista teve menos visualizações no streaming?"
      ]
    },
    {
      "cell_type": "code",
      "execution_count": 45,
      "metadata": {
        "colab": {
          "base_uri": "https://localhost:8080/"
        },
        "id": "3IqZPnGwnljh",
        "outputId": "72a1c222-8a26-4caa-8cdd-7208dd1fce2a"
      },
      "outputs": [
        {
          "name": "stdout",
          "output_type": "stream",
          "text": [
            "O artista com a menor quantidade de visualizações foi Jennifer Lopez com 0.08 mil visualizações\n"
          ]
        }
      ],
      "source": [
        "comando = \"\"\"\n",
        "Select artist,\n",
        "sum(streaming) qt\n",
        "from money_makers\n",
        "group by artist\n",
        "order by qt asc\n",
        "\"\"\"\n",
        "valor = pd.read_sql_query(comando, conn)\n",
        "dados = valor[0:1]\n",
        "mens = \"O artista com a menor quantidade de visualizações foi\"\n",
        "quantidade = dados['qt'][0]\n",
        "artista = dados['artist'][0]\n",
        "print(mens, artista, 'com', quantidade ,  'mil visualizações')\n"
      ]
    },
    {
      "cell_type": "markdown",
      "metadata": {
        "id": "WG4PUZxhouM9"
      },
      "source": [
        " - Qual artista teve mais visualizações em turnês?"
      ]
    },
    {
      "cell_type": "code",
      "execution_count": 46,
      "metadata": {
        "colab": {
          "base_uri": "https://localhost:8080/"
        },
        "id": "mgDdBC9Wo97_",
        "outputId": "54cc500c-54da-4fdc-ba93-dc25b4212d84"
      },
      "outputs": [
        {
          "name": "stdout",
          "output_type": "stream",
          "text": [
            "O artista com a maior quantidade de visualizações em turnê foi Taylor Swift com 90.5 mil visualizações em turnês\n"
          ]
        }
      ],
      "source": [
        "comando = \"\"\"\n",
        "    SELECT artist ,\n",
        "    sum(touring) qt\n",
        "    FROM money_makers\n",
        "    GROUP BY artist\n",
        "    order by qt desc\n",
        "\"\"\"\n",
        "valor = pd.read_sql_query(comando, conn)\n",
        "dados = valor[0:1]\n",
        "mens = \"O artista com a maior quantidade de visualizações em turnê foi\"\n",
        "quantidade = dados['qt'][0]\n",
        "artista = dados['artist'][0]\n",
        "print(mens, artista, 'com', quantidade ,  'mil visualizações em turnês')\n"
      ]
    },
    {
      "cell_type": "markdown",
      "metadata": {
        "id": "JEXvw_DrF3Jh"
      },
      "source": [
        "## Questão 3: 0,5 Ponto\n",
        "Crie uma tabela contendo\n",
        " - nome do artista,\n",
        " - país e,\n",
        " - continente de origem,\n",
        "\n",
        " **os artistas listados nessa tabela deverão ser os mesmos do arquivo ``money makers bb``**\n",
        "\n",
        "### Usando a importação pelo SGBD ´SQLITEONLINE´\n",
        "![Importação dos dados](img/Screenshot_20240812_074240_Chrome.jpg)\n",
        "\n",
        "### Usando a importação de dados pelo Python"
      ]
    },
    {
      "cell_type": "code",
      "execution_count": 51,
      "metadata": {
        "id": "qGQGXl2f9OyC"
      },
      "outputs": [
        {
          "name": "stderr",
          "output_type": "stream",
          "text": [
            "C:\\Users\\c117813\\AppData\\Local\\Temp\\ipykernel_21132\\976848477.py:28: FutureWarning: Series.__getitem__ treating keys as positions is deprecated. In a future version, integer keys will always be treated as labels (consistent with DataFrame behavior). To access a value by position, use `ser.iloc[pos]`\n",
            "  \"\"\"+\"'\"+row[0]+\"'\"+\"\"\",\n",
            "C:\\Users\\c117813\\AppData\\Local\\Temp\\ipykernel_21132\\976848477.py:29: FutureWarning: Series.__getitem__ treating keys as positions is deprecated. In a future version, integer keys will always be treated as labels (consistent with DataFrame behavior). To access a value by position, use `ser.iloc[pos]`\n",
            "  \"\"\"+\"'\"+row[1]+\"'\"+\"\"\",\n",
            "C:\\Users\\c117813\\AppData\\Local\\Temp\\ipykernel_21132\\976848477.py:30: FutureWarning: Series.__getitem__ treating keys as positions is deprecated. In a future version, integer keys will always be treated as labels (consistent with DataFrame behavior). To access a value by position, use `ser.iloc[pos]`\n",
            "  \"\"\"+\"'\"+row[2]+\"'\"+\"\"\"\n"
          ]
        },
        {
          "name": "stdout",
          "output_type": "stream",
          "text": [
            "Criada a tabela ´artist_country_continent´\n",
            "Abaixo a lista para verificação dos dados\n",
            "                        artist             country      continent\n",
            "0                        AC DC            American  North America\n",
            "1                    Aerosmith            American  North America\n",
            "2            Alanis Morissette            Canadian  North America\n",
            "3                Ariana Grande            American  North America\n",
            "4                     Aventura  Dominican-American  North America\n",
            "..                         ...                 ...            ...\n",
            "84                      Weezer            American  North America\n",
            "85                XXXTentacion            American  North America\n",
            "86  YoungBoy Never Broke Again            American  North America\n",
            "87              Zac Brown Band            American  North America\n",
            "88              Dead & Company             Mexican  North America\n",
            "\n",
            "[89 rows x 3 columns]\n"
          ]
        }
      ],
      "source": [
        "# Nome do arquivo CSV com dados dos artistas, nacionalidade e continente\n",
        "csv_file = 'artist_country_continent.csv'\n",
        "\n",
        "# Lendo o arquivo CSV\n",
        "df = pd.read_csv(csv_file)\n",
        "\n",
        "## Remover a tabela se ela já existir\n",
        "executa_sql(conn, \"DROP TABLE IF EXISTS artist_country_continent\")\n",
        "\n",
        "## Criar a tabela com a estrutura apropriada com base no arquivo CSV\n",
        "create_table_query = \"\"\"\n",
        "    CREATE TABLE artist_country_continent (\n",
        "        artist TEXT,\n",
        "        country TEXT,\n",
        "        continent TEXT\n",
        "    )\n",
        "\"\"\"\n",
        "executa_sql(conn, create_table_query)\n",
        "\n",
        "for index, row in df.iterrows():   \n",
        "  comando = \"\"\"\n",
        "    INSERT INTO artist_country_continent (\n",
        "        artist,\n",
        "        country,\n",
        "        continent\n",
        "    )\n",
        "    VALUES (\n",
        "      \"\"\"+\"'\"+str(row[0])+\"'\"+\"\"\",\n",
        "      \"\"\"+\"'\"+str(row[1])+\"'\"+\"\"\",\n",
        "      \"\"\"+\"'\"+str(row[2])+\"'\"+\"\"\"      \n",
        "    )\n",
        "  \"\"\"\n",
        "  executa_sql(conn, comando)\n",
        "\n",
        "print(\"Criada a tabela ´artist_country_continent´\")\n",
        "print(\"Abaixo a lista para verificação dos dados\")\n",
        "print(pd.read_sql_query(\"SELECT * FROM artist_country_continent\", conn))\n"
      ]
    },
    {
      "cell_type": "markdown",
      "metadata": {
        "id": "qdJClU7cIkuc"
      },
      "source": [
        "- Utilizando as informações das duas tabelas, liste quais foram os cinco países que tiveram o maior número de visualizações."
      ]
    },
    {
      "cell_type": "code",
      "execution_count": 49,
      "metadata": {
        "id": "pDqs-OhTIyxi"
      },
      "outputs": [
        {
          "name": "stdout",
          "output_type": "stream",
          "text": [
            "5 Países com a maior quantidade de visualizações\n",
            "           país  visualizacoes\n",
            "0      American        324.874\n",
            "1       British        101.570\n",
            "2      Canadian         24.800\n",
            "3       Mexican          8.480\n",
            "4  South Korean          7.300\n"
          ]
        }
      ],
      "source": [
        "comando = \"\"\"\n",
        "    SELECT t1.country país, \n",
        "        SUM(T2.streaming) visualizacoes        \n",
        "    FROM artist_country_continent T1\n",
        "    JOIN money_makers T2\n",
        "        ON( T1.artist = T2.artist )\n",
        "    GROUP BY country\n",
        "    order by visualizacoes DESC\n",
        "    limit 5\n",
        "\"\"\"\n",
        "\n",
        "print(\"5 Países com a maior quantidade de visualizações\")\n",
        "print(pd.read_sql_query(comando, conn))"
      ]
    },
    {
      "cell_type": "markdown",
      "metadata": {},
      "source": [
        "## Questão 4: 0,5 Ponto\n",
        "\n",
        " - Utilizando python, conecte ao banco de dados e faça uma consulta para trazer qual artista teve maior faturamento em 2020"
      ]
    },
    {
      "cell_type": "code",
      "execution_count": 41,
      "metadata": {},
      "outputs": [
        {
          "name": "stdout",
          "output_type": "stream",
          "text": [
            "A artista com o maior faturamento em 2020 foi  Taylor Swift  com  10  milhões em vendas no período\n"
          ]
        }
      ],
      "source": [
        "comando = \"\"\"\n",
        " select artist, sum(sales) vendas, year  \n",
        "   from money_makers\n",
        "  WHERE year = 2020\n",
        "  group by artist, year\n",
        "  order BY vendas desc\n",
        "  limit 1\n",
        "\"\"\"\n",
        "resultado = pd.read_sql_query(comando, conn)\n",
        "print(\"A artista com o maior faturamento em 2020 foi \", resultado['artist'][0], \" com \", resultado['vendas'][0], \" milhões em vendas no período\")"
      ]
    }
  ],
  "metadata": {
    "colab": {
      "collapsed_sections": [
        "zpztcWA2UTHL",
        "5buP270HUTHV",
        "3uBCouFbUkBp",
        "3BuK3VC0UTHW"
      ],
      "provenance": []
    },
    "kernelspec": {
      "display_name": "Python 3",
      "language": "python",
      "name": "python3"
    },
    "language_info": {
      "codemirror_mode": {
        "name": "ipython",
        "version": 3
      },
      "file_extension": ".py",
      "mimetype": "text/x-python",
      "name": "python",
      "nbconvert_exporter": "python",
      "pygments_lexer": "ipython3",
      "version": "3.12.2"
    }
  },
  "nbformat": 4,
  "nbformat_minor": 0
}
