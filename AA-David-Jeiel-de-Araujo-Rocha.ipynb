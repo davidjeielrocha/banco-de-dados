{
  "cells": [
    {
      "cell_type": "markdown",
      "metadata": {
        "id": "zpztcWA2UTHL"
      },
      "source": [
        "## Passo 1: Criação de dataframe com os dados"
      ]
    },
    {
      "cell_type": "code",
      "execution_count": 20,
      "metadata": {
        "id": "N7SFyFBgUTHQ",
        "outputId": "c9d6e07f-b9e1-4f70-f804-cf1a961b3aa3",
        "colab": {
          "base_uri": "https://localhost:8080/"
        }
      },
      "outputs": [
        {
          "output_type": "stream",
          "name": "stdout",
          "text": [
            "<-- Teste com as primeiras linhas do dataframe criado -->\n",
            "          Artist  total    sales  streaming  publishing  touring  year\n",
            "0   Taylor Swift   23.8  10.0000      10.60       3.200      0.0  2020\n",
            "1    Post Malone   23.2   0.7125       8.10       2.000     12.4  2020\n",
            "2    Celine Dion   17.5   0.2500       0.29       0.024     17.0  2020\n",
            "3         Eagles   16.3   0.9700       2.70       1.200     11.4  2020\n",
            "4  Bellie Eilish   14.7   2.1000       5.90       5.700      1.0  2020\n",
            "<-- Final do teste -->\n"
          ]
        }
      ],
      "source": [
        "import pandas as pd\n",
        "\n",
        "# Nome do arquivo CSV local\n",
        "csv_file = 'https://raw.githubusercontent.com/davidjeielrocha/banco-de-dados/master/money-makers-bb.csv'\n",
        "\n",
        "# Lendo o arquivo CSV\n",
        "df = pd.read_csv(csv_file)\n",
        "\n",
        "# Exibir as primeiras linhas do dataframe para entender a estrutura\n",
        "print(\"<-- Teste com as primeiras linhas do dataframe criado -->\")\n",
        "print(df.head())\n",
        "print(\"<-- Final do teste -->\")"
      ]
    },
    {
      "cell_type": "markdown",
      "metadata": {
        "id": "5buP270HUTHV"
      },
      "source": [
        "## Passo 2: Criação do banco de dados e tabela"
      ]
    },
    {
      "cell_type": "code",
      "execution_count": null,
      "metadata": {
        "id": "ICgTGuM1UTHV"
      },
      "outputs": [],
      "source": [
        "import sqlite3\n",
        "\n",
        "# Criar uma conexão com um banco de dados SQLite\n",
        "conn = sqlite3.connect('money_makers.db')\n",
        "\n",
        "# Criar um objeto cursor\n",
        "cursor = conn.cursor()\n",
        "\n",
        "# Remover a tabela se ela já existir\n",
        "cursor.execute(\"DROP TABLE IF EXISTS money_makers\")\n",
        "\n",
        "# Criar a tabela com a estrutura apropriada com base no arquivo CSV\n",
        "create_table_query = \"\"\"\n",
        "    CREATE TABLE money_makers (\n",
        "        artist TEXT,\n",
        "        total NUM,\n",
        "        sales NUM,\n",
        "        streaming NUM,\n",
        "        publishing NUM,\n",
        "        touring NUM,\n",
        "        year INT\n",
        "    )\n",
        "\"\"\"\n",
        "cursor.execute(create_table_query)\n",
        "\n",
        "## Confirmar a transação\n",
        "conn.commit()"
      ]
    },
    {
      "cell_type": "markdown",
      "source": [
        "## Criação da função de manipulação do banco de dados"
      ],
      "metadata": {
        "id": "3uBCouFbUkBp"
      }
    },
    {
      "cell_type": "code",
      "source": [
        "\n",
        "dados = \"\"\n",
        "def executa_sql(conexao, comando_sql):\n",
        "  try:\n",
        "    cursor = conexao.cursor()\n",
        "    cursor.execute(comando_sql)\n",
        "    dados = cursor\n",
        "    conexao.commit()\n",
        "  except sqlite3.Error as erro:\n",
        "    print(\"Erro ao inserir dados no banco de dados:\", erro)"
      ],
      "metadata": {
        "id": "F-pfx5r6Uu8f"
      },
      "execution_count": null,
      "outputs": []
    },
    {
      "cell_type": "markdown",
      "metadata": {
        "id": "3BuK3VC0UTHW"
      },
      "source": [
        "## Carregamento de dados no banco criado"
      ]
    },
    {
      "cell_type": "code",
      "execution_count": null,
      "metadata": {
        "id": "1wFNYyM6UTHX",
        "colab": {
          "base_uri": "https://localhost:8080/"
        },
        "outputId": "20144f00-dc00-47f0-ed22-b9f70cb3077c"
      },
      "outputs": [
        {
          "output_type": "stream",
          "name": "stderr",
          "text": [
            "<ipython-input-4-cd0931c338b8>:6: FutureWarning: Series.__getitem__ treating keys as positions is deprecated. In a future version, integer keys will always be treated as labels (consistent with DataFrame behavior). To access a value by position, use `ser.iloc[pos]`\n",
            "  \"\"\"+\"'\"+str(row[0])+\"'\"+\"\"\",\n",
            "<ipython-input-4-cd0931c338b8>:7: FutureWarning: Series.__getitem__ treating keys as positions is deprecated. In a future version, integer keys will always be treated as labels (consistent with DataFrame behavior). To access a value by position, use `ser.iloc[pos]`\n",
            "  \"\"\"+str(row[1])+\"\"\",\n",
            "<ipython-input-4-cd0931c338b8>:8: FutureWarning: Series.__getitem__ treating keys as positions is deprecated. In a future version, integer keys will always be treated as labels (consistent with DataFrame behavior). To access a value by position, use `ser.iloc[pos]`\n",
            "  \"\"\"+str(row[2])+\"\"\",\n",
            "<ipython-input-4-cd0931c338b8>:9: FutureWarning: Series.__getitem__ treating keys as positions is deprecated. In a future version, integer keys will always be treated as labels (consistent with DataFrame behavior). To access a value by position, use `ser.iloc[pos]`\n",
            "  \"\"\"+str(row[3])+\"\"\",\n",
            "<ipython-input-4-cd0931c338b8>:10: FutureWarning: Series.__getitem__ treating keys as positions is deprecated. In a future version, integer keys will always be treated as labels (consistent with DataFrame behavior). To access a value by position, use `ser.iloc[pos]`\n",
            "  \"\"\"+str(row[4])+\"\"\",\n",
            "<ipython-input-4-cd0931c338b8>:11: FutureWarning: Series.__getitem__ treating keys as positions is deprecated. In a future version, integer keys will always be treated as labels (consistent with DataFrame behavior). To access a value by position, use `ser.iloc[pos]`\n",
            "  \"\"\"+str(row[5])+\"\"\",\n",
            "<ipython-input-4-cd0931c338b8>:12: FutureWarning: Series.__getitem__ treating keys as positions is deprecated. In a future version, integer keys will always be treated as labels (consistent with DataFrame behavior). To access a value by position, use `ser.iloc[pos]`\n",
            "  \"\"\"+str(row[6])+\"\"\"\n"
          ]
        }
      ],
      "source": [
        "\n",
        "for index, row in df.iterrows():\n",
        " # dados = ( row[0], row[1], row[2], row[3], row[4], row[5] )\n",
        "  comando = \"\"\"\n",
        "    INSERT INTO money_makers (Artist, Total, Sales, Streaming, Publishing, Touring, Year)\n",
        "    VALUES (\n",
        "      \"\"\"+\"'\"+str(row[0])+\"'\"+\"\"\",\n",
        "      \"\"\"+str(row[1])+\"\"\",\n",
        "      \"\"\"+str(row[2])+\"\"\",\n",
        "      \"\"\"+str(row[3])+\"\"\",\n",
        "      \"\"\"+str(row[4])+\"\"\",\n",
        "      \"\"\"+str(row[5])+\"\"\",\n",
        "      \"\"\"+str(row[6])+\"\"\"\n",
        "    )\n",
        "  \"\"\"\n",
        "  executa_sql(conn, comando)"
      ]
    },
    {
      "cell_type": "code",
      "source": [
        "# Verificar se os dados foram inseridos corretamente\n",
        "print(\"<--Teste de verificação dos dados inseridos na tabela-->\")\n",
        "print(pd.read_sql_query('SELECT * FROM money_makers', conn))\n",
        "print(\"<--Final do teste de verificação dos dados inseridos na tabela-->\")"
      ],
      "metadata": {
        "colab": {
          "base_uri": "https://localhost:8080/"
        },
        "id": "31nEfXazV5Bk",
        "outputId": "fd21fa68-cb0f-4b33-a4b4-d9d6b8713ab3"
      },
      "execution_count": null,
      "outputs": [
        {
          "output_type": "stream",
          "name": "stdout",
          "text": [
            "<--Teste de verificação dos dados inseridos na tabela-->\n",
            "                         artist  total    sales  streaming  publishing  \\\n",
            "0                  Taylor Swift   23.8  10.0000      10.60       3.200   \n",
            "1                   Post Malone   23.2   0.7125       8.10       2.000   \n",
            "2                   Celine Dion   17.5   0.2500       0.29       0.024   \n",
            "3                        Eagles   16.3   0.9700       2.70       1.200   \n",
            "4                 Bellie Eilish   14.7   2.1000       5.90       5.700   \n",
            "..                          ...    ...      ...        ...         ...   \n",
            "115  YoungBoy Never Broke Again   10.4   0.1200       8.90       1.400   \n",
            "116                Thomas Rhett   10.3   0.1700       2.40       0.410   \n",
            "117              Zac Brown Band   10.3   0.2300       1.60       1.000   \n",
            "118                      Maluma   10.2   0.0020       1.30       0.810   \n",
            "119                  The Weeknd   10.1   1.3000       7.30       1.600   \n",
            "\n",
            "     touring  year  \n",
            "0        0.0  2020  \n",
            "1       12.4  2020  \n",
            "2       17.0  2020  \n",
            "3       11.4  2020  \n",
            "4        1.0  2020  \n",
            "..       ...   ...  \n",
            "115      0.0  2021  \n",
            "116      7.4  2021  \n",
            "117      7.4  2021  \n",
            "118      8.1  2021  \n",
            "119      0.0  2021  \n",
            "\n",
            "[120 rows x 7 columns]\n",
            "<--Final do teste de verificação dos dados inseridos na tabela-->\n"
          ]
        }
      ]
    },
    {
      "cell_type": "markdown",
      "source": [
        "## Questão 1: 0,5 Ponto\n",
        " - Quantos artistas constam na base?"
      ],
      "metadata": {
        "id": "TqzM3Izu48Yy"
      }
    },
    {
      "cell_type": "code",
      "source": [
        "comando = \"Select distinct artist from money_makers\"\n",
        "artistas = pd.read_sql_query(comando, conn)\n",
        "qtd = artistas.count() - 1\n",
        "print(\"Constam \" , qtd[\"artist\"] , \" artistas na base de dados\")\n",
        "print(\"<--Teste de verificação dos dados -->\")\n",
        "print(pd.read_sql_query(comando, conn))\n",
        "print(\"<--Final do teste de verificação-->\")"
      ],
      "metadata": {
        "colab": {
          "base_uri": "https://localhost:8080/"
        },
        "id": "XhV9wAys5i9a",
        "outputId": "4a6d0854-866e-42bb-da5e-b13cc05ca2d7"
      },
      "execution_count": null,
      "outputs": [
        {
          "output_type": "stream",
          "name": "stdout",
          "text": [
            "Constam  89  artistas na base de dados\n",
            "<--Teste de verificação dos dados -->\n",
            "               artist\n",
            "0        Taylor Swift\n",
            "1         Post Malone\n",
            "2         Celine Dion\n",
            "3              Eagles\n",
            "4       Bellie Eilish\n",
            "..                ...\n",
            "85  Alanis Morissette\n",
            "86        Grupo Firme\n",
            "87       Thomas Rhett\n",
            "88     Zac Brown Band\n",
            "89             Maluma\n",
            "\n",
            "[90 rows x 1 columns]\n",
            "<--Final do teste de verificação-->\n"
          ]
        }
      ]
    },
    {
      "cell_type": "markdown",
      "source": [
        " - Quantos registros essa base possui?"
      ],
      "metadata": {
        "id": "KOphr1AXAcgz"
      }
    },
    {
      "cell_type": "code",
      "source": [
        "comando = \"Select * from money_makers\"\n",
        "quantidade = pd.read_sql_query(comando, conn)\n",
        "valor = quantidade.count()\n",
        "print(\"Constam \" , valor[\"total\"], \" registros na base de dados\")\n",
        "print(\"<--Teste de verificação dos dados -->\")\n",
        "print(quantidade)\n",
        "print(\"<--Final do teste de verificação-->\")"
      ],
      "metadata": {
        "colab": {
          "base_uri": "https://localhost:8080/"
        },
        "id": "UwBegqX4ApFT",
        "outputId": "4939ff81-e019-4c2f-87b7-b624f9cad215"
      },
      "execution_count": null,
      "outputs": [
        {
          "output_type": "stream",
          "name": "stdout",
          "text": [
            "Constam  120  registros na base de dados\n",
            "<--Teste de verificação dos dados -->\n",
            "                         artist  total    sales  streaming  publishing  \\\n",
            "0                  Taylor Swift   23.8  10.0000      10.60       3.200   \n",
            "1                   Post Malone   23.2   0.7125       8.10       2.000   \n",
            "2                   Celine Dion   17.5   0.2500       0.29       0.024   \n",
            "3                        Eagles   16.3   0.9700       2.70       1.200   \n",
            "4                 Bellie Eilish   14.7   2.1000       5.90       5.700   \n",
            "..                          ...    ...      ...        ...         ...   \n",
            "115  YoungBoy Never Broke Again   10.4   0.1200       8.90       1.400   \n",
            "116                Thomas Rhett   10.3   0.1700       2.40       0.410   \n",
            "117              Zac Brown Band   10.3   0.2300       1.60       1.000   \n",
            "118                      Maluma   10.2   0.0020       1.30       0.810   \n",
            "119                  The Weeknd   10.1   1.3000       7.30       1.600   \n",
            "\n",
            "     touring  year  \n",
            "0        0.0  2020  \n",
            "1       12.4  2020  \n",
            "2       17.0  2020  \n",
            "3       11.4  2020  \n",
            "4        1.0  2020  \n",
            "..       ...   ...  \n",
            "115      0.0  2021  \n",
            "116      7.4  2021  \n",
            "117      7.4  2021  \n",
            "118      8.1  2021  \n",
            "119      0.0  2021  \n",
            "\n",
            "[120 rows x 7 columns]\n",
            "<--Final do teste de verificação-->\n"
          ]
        }
      ]
    },
    {
      "cell_type": "markdown",
      "source": [
        " - Quantas colunas essa base possui?"
      ],
      "metadata": {
        "id": "Qq1asXR2Wt69"
      }
    },
    {
      "cell_type": "code",
      "source": [
        "comando = \"\"\"SELECT *\n",
        "FROM PRAGMA_table_info('money_makers');\"\"\"\n",
        "valor = pd.read_sql_query(comando, conn)\n",
        "quantidade = valor.count()\n",
        "print(\"Existem \" , quantidade[\"name\"], \" colunas na tabela\")\n",
        "print(\"<--Teste de verificação dos dados -->\")\n",
        "print(valor[\"name\"])\n",
        "print(\"<--Final do teste de verificação-->\")"
      ],
      "metadata": {
        "id": "VxoIlCgLWzYn",
        "colab": {
          "base_uri": "https://localhost:8080/"
        },
        "outputId": "43d336f2-0d04-42a9-fae4-49e64edd6b68"
      },
      "execution_count": null,
      "outputs": [
        {
          "output_type": "stream",
          "name": "stdout",
          "text": [
            "Existem  7  colunas na tabela\n",
            "<--Teste de verificação dos dados -->\n",
            "0        artist\n",
            "1         total\n",
            "2         sales\n",
            "3     streaming\n",
            "4    publishing\n",
            "5       touring\n",
            "6          year\n",
            "Name: name, dtype: object\n",
            "<--Final do teste de verificação-->\n"
          ]
        }
      ]
    },
    {
      "cell_type": "markdown",
      "source": [
        "##Questão 2: 0,5 Ponto\n",
        "- Qual artista teve o maior número de visualizações no total?"
      ],
      "metadata": {
        "id": "qssB0BhudxPZ"
      }
    },
    {
      "cell_type": "code",
      "source": [
        "comando = \"\"\"Select artist,\n",
        "sum(streaming) qt\n",
        "from money_makers\n",
        "group by artist\n",
        "order by qt desc\"\"\"\n",
        "valor = pd.read_sql_query(comando, conn)\n",
        "dados = valor[0:1]\n",
        "mens = \"O artista com a maior quantidade de visualizações foi\"\n",
        "quantidade = dados['qt'][0]\n",
        "artista = dados['artist'][0]\n",
        "print(mens, artista, 'com', quantidade ,  'mil visualizações')\n"
      ],
      "metadata": {
        "colab": {
          "base_uri": "https://localhost:8080/"
        },
        "id": "EU6b2PiNeSpr",
        "outputId": "6e227fd9-9c75-4188-95b4-63eaf4b704f3"
      },
      "execution_count": null,
      "outputs": [
        {
          "output_type": "stream",
          "name": "stdout",
          "text": [
            "O artista com a maior quantidade de visualizações foi Drake com 49.3 mil visualizações\n"
          ]
        }
      ]
    },
    {
      "cell_type": "markdown",
      "source": [
        "Qual artista teve menos visualizações no streaming?"
      ],
      "metadata": {
        "id": "uwEXxuxJ1M7V"
      }
    },
    {
      "cell_type": "code",
      "source": [
        "comando = \"\"\"\n",
        "Select artist,\n",
        "sum(streaming) qt\n",
        "from money_makers\n",
        "group by artist\n",
        "order by qt asc\n",
        "\"\"\"\n",
        "valor = pd.read_sql_query(comando, conn)\n",
        "dados = valor[0:1]\n",
        "mens = \"O artista com a menor quantidade de visualizações foi\"\n",
        "quantidade = dados['qt'][0]\n",
        "artista = dados['artist'][0]\n",
        "print(mens, artista, 'com', quantidade ,  'mil visualizações')\n"
      ],
      "metadata": {
        "colab": {
          "base_uri": "https://localhost:8080/"
        },
        "id": "3IqZPnGwnljh",
        "outputId": "72a1c222-8a26-4caa-8cdd-7208dd1fce2a"
      },
      "execution_count": null,
      "outputs": [
        {
          "output_type": "stream",
          "name": "stdout",
          "text": [
            "O artista com a menor quantidade de visualizações foi Jennifer Lopez com 0.08 mil visualizações\n"
          ]
        }
      ]
    },
    {
      "cell_type": "markdown",
      "source": [
        " - Qual artista teve mais visualizações em turnês?"
      ],
      "metadata": {
        "id": "WG4PUZxhouM9"
      }
    },
    {
      "cell_type": "code",
      "source": [
        "comando = \"\"\"\n",
        "SELECT artist ,\n",
        "sum(touring) qt\n",
        "FROM money_makers\n",
        "GROUP BY artist\n",
        "order by qt desc\n",
        "\"\"\"\n",
        "valor = pd.read_sql_query(comando, conn)\n",
        "dados = valor[0:1]\n",
        "mens = \"O artista com a maior quantida de visualizações foi\"\n",
        "quantidade = dados['qt'][0]\n",
        "artista = dados['artist'][0]\n",
        "print(mens, artista, 'com', quantidade ,  'mil visualizações em turnês')\n"
      ],
      "metadata": {
        "colab": {
          "base_uri": "https://localhost:8080/"
        },
        "id": "mgDdBC9Wo97_",
        "outputId": "54cc500c-54da-4fdc-ba93-dc25b4212d84"
      },
      "execution_count": null,
      "outputs": [
        {
          "output_type": "stream",
          "name": "stdout",
          "text": [
            "O artista com a maior quantida de visualizações foi Taylor Swift com 90.5 mil visualizações em turnês\n"
          ]
        }
      ]
    },
    {
      "cell_type": "markdown",
      "source": [
        "## Questão 3: 0,5 Ponto\n",
        "- Crie uma tabela contendo\n",
        " - o nome do artista,\n",
        " - o país e,\n",
        " - o continente de origem,\n",
        "\n",
        " **os artistas listados nessa tabela deverão ser os mesmos do arquivo ``money makers bb``**"
      ],
      "metadata": {
        "id": "JEXvw_DrF3Jh"
      }
    },
    {
      "cell_type": "code",
      "source": [
        "#continent = \"\"\"CREATE TABLE continent(  id_continent integer PRIMARY KEY AUTOINCREMENT  no_continent text)\"\"\"\n",
        "#country   = \"\"\"CREATE TABLE country(  id_country integer PRIMARY KEY AUTOINCREMENT  no_country text,  id _continent integer  FOREIGN KEY(id_continent) REFERENCES continent(id_continent)  \"\"\"\n",
        "#artist    = \"\"\"CREATE TABLE artist(  id_artist integer PRIMARY KEY AUTOINCREMENT  no_artist text,  id_country integer  FOREIGN KEY(id_country) REFERENCES country(id_country)  \"\"\"\n",
        "\n",
        "#importar dados de paises dos artistas listados\n",
        "import pandas as pd\n",
        "\n",
        "# importa csv com a nacionalidad\n",
        "csv_file = 'https://raw.githubusercontent.com/davidjeielrocha/banco-de-dados/master/grammys-best-album.csv'\n",
        "\n",
        "# Lendo o arquivo CSV\n",
        "best_album = pd.read_csv(csv_file)\n",
        "\n",
        "# Exibir as primeiras linhas do dataframe para entender a estrutura\n",
        "print(\"<-- Teste com as primeiras linhas do dataframe criado -->\")\n",
        "print(best_album.head())\n",
        "print(\"<-- Final do teste -->\")\n",
        "\n",
        "\n",
        "\n",
        "#importar dados de continentes\n",
        "#importar dados de artistas\n"
      ],
      "metadata": {
        "id": "fZs_qfFIIj8a",
        "colab": {
          "base_uri": "https://localhost:8080/"
        },
        "outputId": "5a253cb1-40f4-4902-e744-59282d74400b"
      },
      "execution_count": 19,
      "outputs": [
        {
          "output_type": "stream",
          "name": "stdout",
          "text": [
            "<-- Teste com as primeiras linhas do dataframe criado -->\n",
            "     Year         Artist                                 Work  \\\n",
            "0  1959.0  Henry Mancini            The Music from Peter Gunn   \n",
            "1  1960.0  Frank Sinatra                  Come Dance with Me!   \n",
            "2  1961.0    Bob Newhart  The Button-Down Mind of Bob Newhart   \n",
            "3  1962.0   Judy Garland                Judy at Carnegie Hall   \n",
            "4  1963.0  Vaughn Meader                     The First Family   \n",
            "\n",
            "  City/town of birth/origin US State of birth/origin Country of birth/origin  \\\n",
            "0                 Cleveland                     Ohio                     USA   \n",
            "1                   Hoboken               New Jersey                     USA   \n",
            "2                  Oak Park                 Illinois                     USA   \n",
            "3              Grand Rapids                Minnesota                     USA   \n",
            "4                Waterville                    Maine                     USA   \n",
            "\n",
            "  Racial/Ethnic group  \n",
            "0      White/European  \n",
            "1      White/European  \n",
            "2      White/European  \n",
            "3      White/European  \n",
            "4      White/European  \n",
            "<-- Final do teste -->\n"
          ]
        }
      ]
    },
    {
      "cell_type": "code",
      "source": [],
      "metadata": {
        "id": "qGQGXl2f9OyC"
      },
      "execution_count": null,
      "outputs": []
    },
    {
      "cell_type": "markdown",
      "source": [
        "- Utilizando as informações das duas tabelas, liste quais foram os cinco países que tiveram o maior número de visualizações."
      ],
      "metadata": {
        "id": "qdJClU7cIkuc"
      }
    },
    {
      "cell_type": "code",
      "source": [],
      "metadata": {
        "id": "pDqs-OhTIyxi"
      },
      "execution_count": null,
      "outputs": []
    }
  ],
  "metadata": {
    "kernelspec": {
      "display_name": "Python 3",
      "language": "python",
      "name": "python3"
    },
    "language_info": {
      "codemirror_mode": {
        "name": "ipython",
        "version": 3
      },
      "file_extension": ".py",
      "mimetype": "text/x-python",
      "name": "python",
      "nbconvert_exporter": "python",
      "pygments_lexer": "ipython3",
      "version": "3.12.2"
    },
    "colab": {
      "provenance": [],
      "collapsed_sections": [
        "zpztcWA2UTHL",
        "5buP270HUTHV",
        "3uBCouFbUkBp",
        "3BuK3VC0UTHW"
      ]
    }
  },
  "nbformat": 4,
  "nbformat_minor": 0
}