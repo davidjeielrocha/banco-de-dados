{
 "cells": [
  {
   "cell_type": "markdown",
   "metadata": {},
   "source": [
    "## Passo 1: Criação de dataframe com os dados"
   ]
  },
  {
   "cell_type": "code",
   "execution_count": 43,
   "metadata": {},
   "outputs": [
    {
     "name": "stdout",
     "output_type": "stream",
     "text": [
      "<-- Teste com as primeiras linhas do dataframe criado -->\n",
      "          Artist  total   sales  streaming  publishing  touring  year\n",
      "0   Taylor Swift   23.8      10      10.60       3.200      0.0  2020\n",
      "1    Post Malone   23.2  0.7125       8.10       2.000     12.4  2020\n",
      "2    Celine Dion   17.5    0.25       0.29       0.024     17.0  2020\n",
      "3         Eagles   16.3    0.97       2.70       1.200     11.4  2020\n",
      "4  Bellie Eilish   14.7     2.1       5.90       5.700      1.0  2020\n",
      "<-- Final do teste -->\n"
     ]
    }
   ],
   "source": [
    "import pandas as pd\n",
    "\n",
    "# Nome do arquivo CSV local\n",
    "csv_file = 'money-makers-bb.csv'\n",
    "\n",
    "# Lendo o arquivo CSV\n",
    "df = pd.read_csv(csv_file)\n",
    "\n",
    "# Exibir as primeiras linhas do dataframe para entender a estrutura\n",
    "print(\"<-- Teste com as primeiras linhas do dataframe criado -->\")\n",
    "print(df.head())\n",
    "print(\"<-- Final do teste -->\")"
   ]
  },
  {
   "cell_type": "markdown",
   "metadata": {},
   "source": [
    "## Passo 2: Criação do banco de dados e tabela "
   ]
  },
  {
   "cell_type": "code",
   "execution_count": 45,
   "metadata": {},
   "outputs": [
    {
     "name": "stdout",
     "output_type": "stream",
     "text": [
      "\n",
      "    CREATE TABLE money_makers (\n",
      "        Artist TEXT,\n",
      "        total NUM,\n",
      "        sales NUM,\n",
      "        sales NUM,\n",
      "        publishing NUM,\n",
      "        touring NUM,\n",
      "        year INT\n",
      "    )\n",
      "\n"
     ]
    }
   ],
   "source": [
    "import sqlite3\n",
    "\n",
    "# Criar uma conexão com um banco de dados SQLite\n",
    "conn = sqlite3.connect('money_makers.db')\n",
    "\n",
    "# Criar um objeto cursor\n",
    "cursor = conn.cursor()\n",
    "\n",
    "# Remover a tabela se ela já existir\n",
    "cursor.execute(\"DROP TABLE IF EXISTS money_makers\")\n",
    "\n",
    "# Criar a tabela com a estrutura apropriada com base no arquivo CSV\n",
    "create_table_query = \"\"\"\n",
    "    CREATE TABLE money_makers (\n",
    "        Artist TEXT,\n",
    "        total NUM,\n",
    "        sales NUM,\n",
    "        sales NUM,\n",
    "        publishing NUM,\n",
    "        touring NUM,\n",
    "        year INT\n",
    "    )\n",
    "\"\"\"\n",
    "# print(create_table_query)\n",
    "\n",
    "cursor.execute(create_table_query)\n",
    "\n",
    "# # Confirmar a transação\n",
    "# conn.commit()"
   ]
  },
  {
   "cell_type": "markdown",
   "metadata": {},
   "source": [
    "## Carregamento de dados no banco criado"
   ]
  },
  {
   "cell_type": "code",
   "execution_count": null,
   "metadata": {},
   "outputs": [
    {
     "name": "stdout",
     "output_type": "stream",
     "text": [
      "<--Teste de verificação dos dados inseridos na tabela-->\n",
      "Empty DataFrame\n",
      "Columns: [Nome, Cargo, Empresa, Ano, Salario]\n",
      "Index: []\n",
      "<--Final do teste de verificação dos dados inseridos na tabela-->\n"
     ]
    }
   ],
   "source": [
    "# Escrever o dataframe na tabela SQL\n",
    "df.to_sql('money_makers.db', con=conn, if_exists='append', index=False)\n",
    "\n",
    "# Verificar se os dados foram inseridos corretamente\n",
    "print(\"<--Teste de verificação dos dados inseridos na tabela-->\")\n",
    "print(pd.read_sql('SELECT * FROM mm LIMIT 5', conn))\n",
    "print(\"<--Final do teste de verificação dos dados inseridos na tabela-->\")"
   ]
  }
 ],
 "metadata": {
  "kernelspec": {
   "display_name": "Python 3",
   "language": "python",
   "name": "python3"
  },
  "language_info": {
   "codemirror_mode": {
    "name": "ipython",
    "version": 3
   },
   "file_extension": ".py",
   "mimetype": "text/x-python",
   "name": "python",
   "nbconvert_exporter": "python",
   "pygments_lexer": "ipython3",
   "version": "3.12.2"
  }
 },
 "nbformat": 4,
 "nbformat_minor": 2
}
