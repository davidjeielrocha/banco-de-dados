{
  "cells": [
    {
      "cell_type": "markdown",
      "metadata": {
        "id": "zpztcWA2UTHL"
      },
      "source": [
        "## Passo 1: Criação de dataframe com os dados"
      ]
    },
    {
      "cell_type": "code",
      "execution_count": 50,
      "metadata": {
        "id": "N7SFyFBgUTHQ",
        "outputId": "3902bda2-c8ae-4b54-b4c5-d6d11caab23d",
        "colab": {
          "base_uri": "https://localhost:8080/"
        }
      },
      "outputs": [
        {
          "output_type": "stream",
          "name": "stdout",
          "text": [
            "<-- Teste com as primeiras linhas do dataframe criado -->\n",
            "          Artist  total   sales  streaming  publishing  touring  year\n",
            "0   Taylor Swift   23.8      10      10.60       3.200      0.0  2020\n",
            "1    Post Malone   23.2  0.7125       8.10       2.000     12.4  2020\n",
            "2    Celine Dion   17.5    0.25       0.29       0.024     17.0  2020\n",
            "3         Eagles   16.3    0.97       2.70       1.200     11.4  2020\n",
            "4  Bellie Eilish   14.7     2.1       5.90       5.700      1.0  2020\n",
            "<-- Final do teste -->\n"
          ]
        }
      ],
      "source": [
        "import pandas as pd\n",
        "\n",
        "# Nome do arquivo CSV local\n",
        "csv_file = 'https://raw.githubusercontent.com/davidjeielrocha/banco-de-dados/master/money-makers-bb.csv'\n",
        "\n",
        "# Lendo o arquivo CSV\n",
        "df = pd.read_csv(csv_file)\n",
        "\n",
        "# Exibir as primeiras linhas do dataframe para entender a estrutura\n",
        "print(\"<-- Teste com as primeiras linhas do dataframe criado -->\")\n",
        "print(df.head())\n",
        "print(\"<-- Final do teste -->\")"
      ]
    },
    {
      "cell_type": "markdown",
      "metadata": {
        "id": "5buP270HUTHV"
      },
      "source": [
        "## Passo 2: Criação do banco de dados e tabela"
      ]
    },
    {
      "cell_type": "code",
      "execution_count": 51,
      "metadata": {
        "id": "ICgTGuM1UTHV"
      },
      "outputs": [],
      "source": [
        "import sqlite3\n",
        "\n",
        "# Criar uma conexão com um banco de dados SQLite\n",
        "conn = sqlite3.connect('money_makers.db')\n",
        "\n",
        "# Criar um objeto cursor\n",
        "cursor = conn.cursor()\n",
        "\n",
        "# Remover a tabela se ela já existir\n",
        "#cursor.execute(\"DROP TABLE IF EXISTS money_makers\")\n",
        "\n",
        "# Criar a tabela com a estrutura apropriada com base no arquivo CSV\n",
        "#create_table_query = \"\"\"\n",
        "#    CREATE TABLE money_makers (\n",
        "#        artist TEXT,\n",
        "#        total NUM,\n",
        "#        sales NUM,\n",
        "#        publishing NUM,\n",
        "#        touring NUM,\n",
        "#        year INT\n",
        "#    )\n",
        "#\"\"\"\n",
        "#cursor.execute(create_table_query)\n",
        "\n",
        "## Confirmar a transação\n",
        "conn.commit()"
      ]
    },
    {
      "cell_type": "markdown",
      "source": [
        "## Criação da função de gravar em banco de dados"
      ],
      "metadata": {
        "id": "3uBCouFbUkBp"
      }
    },
    {
      "cell_type": "code",
      "source": [
        "def executa_sql(conexao, comando_sql):\n",
        "  try:\n",
        "    cursor = conexao.cursor()\n",
        "    cursor.execute(comando_sql)\n",
        "    conexao.commit()\n",
        "  except sqlite3.Error as erro:\n",
        "    print(\"Erro ao inserir dados no banco de dados:\", erro)\n"
      ],
      "metadata": {
        "id": "F-pfx5r6Uu8f"
      },
      "execution_count": 52,
      "outputs": []
    },
    {
      "cell_type": "markdown",
      "metadata": {
        "id": "3BuK3VC0UTHW"
      },
      "source": [
        "## Carregamento de dados no banco criado"
      ]
    },
    {
      "cell_type": "code",
      "execution_count": 53,
      "metadata": {
        "id": "1wFNYyM6UTHX",
        "colab": {
          "base_uri": "https://localhost:8080/"
        },
        "outputId": "2a407fb2-8c6e-4031-b96a-d516b13d529c"
      },
      "outputs": [
        {
          "output_type": "stream",
          "name": "stderr",
          "text": [
            "<ipython-input-53-8368e7fb0ec4>:6: FutureWarning: Series.__getitem__ treating keys as positions is deprecated. In a future version, integer keys will always be treated as labels (consistent with DataFrame behavior). To access a value by position, use `ser.iloc[pos]`\n",
            "  \"\"\"+\"'\"+str(row[0])+\"'\"+\"\"\",\n",
            "<ipython-input-53-8368e7fb0ec4>:7: FutureWarning: Series.__getitem__ treating keys as positions is deprecated. In a future version, integer keys will always be treated as labels (consistent with DataFrame behavior). To access a value by position, use `ser.iloc[pos]`\n",
            "  \"\"\"+str(row[1])+\"\"\",\n",
            "<ipython-input-53-8368e7fb0ec4>:8: FutureWarning: Series.__getitem__ treating keys as positions is deprecated. In a future version, integer keys will always be treated as labels (consistent with DataFrame behavior). To access a value by position, use `ser.iloc[pos]`\n",
            "  \"\"\"+str(row[2])+\"\"\",\n",
            "<ipython-input-53-8368e7fb0ec4>:9: FutureWarning: Series.__getitem__ treating keys as positions is deprecated. In a future version, integer keys will always be treated as labels (consistent with DataFrame behavior). To access a value by position, use `ser.iloc[pos]`\n",
            "  \"\"\"+str(row[3])+\"\"\",\n",
            "<ipython-input-53-8368e7fb0ec4>:10: FutureWarning: Series.__getitem__ treating keys as positions is deprecated. In a future version, integer keys will always be treated as labels (consistent with DataFrame behavior). To access a value by position, use `ser.iloc[pos]`\n",
            "  \"\"\"+str(row[4])+\"\"\",\n",
            "<ipython-input-53-8368e7fb0ec4>:11: FutureWarning: Series.__getitem__ treating keys as positions is deprecated. In a future version, integer keys will always be treated as labels (consistent with DataFrame behavior). To access a value by position, use `ser.iloc[pos]`\n",
            "  \"\"\"+str(row[5])+\"\"\"\n"
          ]
        },
        {
          "output_type": "stream",
          "name": "stdout",
          "text": [
            "Erro ao inserir dados no banco de dados: near \".89\": syntax error\n",
            "Erro ao inserir dados no banco de dados: near \"Roses\": syntax error\n"
          ]
        }
      ],
      "source": [
        "\n",
        "for index, row in df.iterrows():\n",
        " # dados = ( row[0], row[1], row[2], row[3], row[4], row[5] )\n",
        "  comando = \"\"\"\n",
        "    INSERT INTO money_makers (Artist, Total, Sales, Publishing, Touring, Year)\n",
        "    VALUES (\n",
        "      \"\"\"+\"'\"+str(row[0])+\"'\"+\"\"\",\n",
        "      \"\"\"+str(row[1])+\"\"\",\n",
        "      \"\"\"+str(row[2])+\"\"\",\n",
        "      \"\"\"+str(row[3])+\"\"\",\n",
        "      \"\"\"+str(row[4])+\"\"\",\n",
        "      \"\"\"+str(row[5])+\"\"\"\n",
        "    )\n",
        "  \"\"\"\n",
        "  executa_sql(conn, comando)"
      ]
    },
    {
      "cell_type": "code",
      "source": [
        "# Verificar se os dados foram inseridos corretamente\n",
        "print(\"<--Teste de verificação dos dados inseridos na tabela-->\")\n",
        "print(pd.read_sql_query('SELECT * FROM money_makers', conn))\n",
        "print(\"<--Final do teste de verificação dos dados inseridos na tabela-->\")"
      ],
      "metadata": {
        "colab": {
          "base_uri": "https://localhost:8080/"
        },
        "id": "31nEfXazV5Bk",
        "outputId": "8d7bb574-4ae5-420b-c4d2-19004f32c6db"
      },
      "execution_count": 56,
      "outputs": [
        {
          "output_type": "stream",
          "name": "stdout",
          "text": [
            "<--Teste de verificação dos dados inseridos na tabela-->\n",
            "                         artist  total    sales  publishing  touring  year\n",
            "0                  Taylor Swift   23.8  10.0000       10.60    3.200   0.0\n",
            "1                   Post Malone   23.2   0.7125        8.10    2.000  12.4\n",
            "2                   Celine Dion   17.5   0.2500        0.29    0.024  17.0\n",
            "3                        Eagles   16.3   0.9700        2.70    1.200  11.4\n",
            "4                 Bellie Eilish   14.7   2.1000        5.90    5.700   1.0\n",
            "..                          ...    ...      ...         ...      ...   ...\n",
            "113  YoungBoy Never Broke Again   10.4   0.1200        8.90    1.400   0.0\n",
            "114                Thomas Rhett   10.3   0.1700        2.40    0.410   7.4\n",
            "115              Zac Brown Band   10.3   0.2300        1.60    1.000   7.4\n",
            "116                      Maluma   10.2   0.0020        1.30    0.810   8.1\n",
            "117                  The Weeknd   10.1   1.3000        7.30    1.600   0.0\n",
            "\n",
            "[118 rows x 6 columns]\n",
            "<--Final do teste de verificação dos dados inseridos na tabela-->\n"
          ]
        }
      ]
    }
  ],
  "metadata": {
    "kernelspec": {
      "display_name": "Python 3",
      "language": "python",
      "name": "python3"
    },
    "language_info": {
      "codemirror_mode": {
        "name": "ipython",
        "version": 3
      },
      "file_extension": ".py",
      "mimetype": "text/x-python",
      "name": "python",
      "nbconvert_exporter": "python",
      "pygments_lexer": "ipython3",
      "version": "3.12.2"
    },
    "colab": {
      "provenance": []
    }
  },
  "nbformat": 4,
  "nbformat_minor": 0
}